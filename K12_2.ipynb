{
 "cells": [
  {
   "cell_type": "markdown",
   "metadata": {},
   "source": [
    "## Exercise 11.2\n",
    "\n",
    "**Lane Ellisor**\n",
    "\n",
    "*Updated Mar 1, 2021*"
   ]
  },
  {
   "cell_type": "code",
   "execution_count": 1,
   "metadata": {},
   "outputs": [],
   "source": [
    "# Importing Modules\n",
    "from scipy import cluster\n",
    "import numpy as np\n",
    "import matplotlib.pyplot as plt\n",
    "from scipy.integrate import odeint\n",
    "import pandas as pd\n",
    "import scipy.special as special\n",
    "from sympy.interactive import printing\n",
    "from scipy import integrate as int\n",
    "printing.init_printing(use_latex=True)\n",
    "from sympy import symbols\n",
    "from sympy.plotting import plot\n",
    "from sympy import *\n",
    "import sympy as sp\n",
    "# This makes the plots appear inside the notebook\n",
    "%matplotlib inline"
   ]
  },
  {
   "cell_type": "markdown",
   "metadata": {},
   "source": [
    "Consider a string with fixed ends and length $L = 1$, which has constant tension $T = 1$, but whose density is defined as $\\rho (x) = 1 + x^2$. The modes of vibration have basic profile shapes of $v(x)$ who satisfy \n",
    "\n",
    "$$ -v''(x) = \\lambda_n(1+x^2)v(x) $$ \n",
    "\n",
    "With the conditions \n",
    "\n",
    "$$ 0<x<1$$  $$v(0) = v(1) = 1$$"
   ]
  },
  {
   "cell_type": "markdown",
   "metadata": {},
   "source": [
    "a) Compute the average tension $T_0$ and average density $\\rho_0$ of the string. Then letting $c=\\sqrt{\\frac{T_0}{\\rho_0}}$, form an intial approximation of $f^{(0)}_1 = \\frac{c}{2L}$ of the strings freqency $f_1$. "
   ]
  },
  {
   "cell_type": "code",
   "execution_count": 2,
   "metadata": {},
   "outputs": [
    {
     "name": "stdout",
     "output_type": "stream",
     "text": [
      "The Average Tension is 1.0 with an error of 1.1102230246251565e-14\n",
      "The Average Density is 1.3333333333333333 with an error of 1.4802973661668752e-14\n",
      "The value of c is 0.8660254037844386\n",
      "The intial approximation of the strings first frequency is 0.4330127018922193\n"
     ]
    }
   ],
   "source": [
    "# Defining Variables \n",
    "def T(x):\n",
    "    return 1\n",
    "L = 1\n",
    "def r_x(x):\n",
    "    return 1 + x**2\n",
    "\n",
    "# Defining the average of both T and \\rho\n",
    "T_0 = int.quad(T, 0, L)\n",
    "r_0 = int.quad(r_x, 0, L)\n",
    "\n",
    "print('The Average Tension is', T_0[0], 'with an error of', T_0[1])\n",
    "print('The Average Density is', r_0[0], 'with an error of', r_0[1])\n",
    "\n",
    "c = np.sqrt(T_0[0]/r_0[0])\n",
    "f_01 = c/(2*L)\n",
    "\n",
    "print('The value of c is', c)\n",
    "print('The intial approximation of the strings first frequency is', f_01)"
   ]
  },
  {
   "cell_type": "markdown",
   "metadata": {},
   "source": [
    "Handworked calcuations for $T_0$ and $\\rho_0$ show that \n",
    "\n",
    "$T_0 = 1$\n",
    "\n",
    "$\\rho_0 = \\frac{4}{3}$\n",
    "\n",
    "Further calculations of $c$ and $f^{0}_1$ show that \n",
    "\n",
    "$c = \\frac{ \\sqrt{3}}{2}$\n",
    "\n",
    "$f^{0}_1 = \\frac{ \\sqrt{3}}{4} $"
   ]
  },
  {
   "cell_type": "markdown",
   "metadata": {},
   "source": [
    "b) Compute $\\lambda^{(0)}_1 = (2\\pi f^{(0)}_1)^2$. Then numerically solve \n",
    "\n",
    "$$ -v''(x) = \\lambda_n (1+x^2)v(x) $$"
   ]
  },
  {
   "cell_type": "code",
   "execution_count": 3,
   "metadata": {},
   "outputs": [
    {
     "name": "stdout",
     "output_type": "stream",
     "text": [
      "l_n is 7.402203300817018\n"
     ]
    }
   ],
   "source": [
    "#Computing l_1^0\n",
    "l_01 = (2*np.pi *f_01)**2\n",
    "print('l_n is', l_01)"
   ]
  },
  {
   "cell_type": "markdown",
   "metadata": {},
   "source": [
    "A calculation for $\\lambda^{(0)}_1$ shows \n",
    "\n",
    "$\\lambda^{(0)}_1 = \\frac{3\\pi^2}{4}$"
   ]
  },
  {
   "cell_type": "markdown",
   "metadata": {},
   "source": [
    "Now we have the ODE \n",
    "\n",
    "$ -v''(x) = \\lambda_n (1+x^2)v(x) $\n",
    "\n",
    "So using the transform $z = v'(x)$\n",
    "\n",
    "$ -z'(x) = \\lambda_n (1+x^2) v(x)$ \n",
    "\n",
    "$ z'(x) = -l_n (1+x^2) v(x)$ \n",
    "\n",
    "\n",
    "v = zx[0] and z = zx[1]"
   ]
  },
  {
   "cell_type": "code",
   "execution_count": 8,
   "metadata": {
    "scrolled": false
   },
   "outputs": [
    {
     "data": {
      "text/plain": [
       "[<matplotlib.lines.Line2D at 0x7fbc806ee050>]"
      ]
     },
     "execution_count": 8,
     "metadata": {},
     "output_type": "execute_result"
    },
    {
     "data": {
      "image/png": "[encoded data removed]",
      "text/plain": [
       "<Figure size 432x288 with 1 Axes>"
      ]
     },
     "metadata": {
      "needs_background": "light"
     },
     "output_type": "display_data"
    }
   ],
   "source": [
    "def dU_dx(U,x):\n",
    "    # here U is a vector s.t. v=U[0] and z = U[1]. Should return [v',z']\n",
    "    return [U[1], -l_01*(1+x**2)*U[0]]\n",
    "zx0 = [0,1]\n",
    "xs = np.linspace(0,1, 1000)\n",
    "Us = odeint(dU_dx,zx0, xs)\n",
    "\n",
    "ys = Us[:,0]\n",
    "\n",
    "\n",
    "plt.xlabel(\"x\")\n",
    "plt.ylabel(\"v(x)\")\n",
    "plt.title(\"v(x) by x \")\n",
    "plt.plot(xs, ys)"
   ]
  },
  {
   "cell_type": "markdown",
   "metadata": {},
   "source": [
    "c) Approximating $\\lambda^{(0)}_1$ to get $v(1)=1$\n",
    "Our $\\lambda^{(0)}_1$ is too big"
   ]
  },
  {
   "cell_type": "code",
   "execution_count": 9,
   "metadata": {},
   "outputs": [
    {
     "data": {
      "text/plain": [
       "[<matplotlib.lines.Line2D at 0x7fbc8074ac50>]"
      ]
     },
     "execution_count": 9,
     "metadata": {},
     "output_type": "execute_result"
    },
    {
     "data": {
      "image/png": "[encoded data removed]",
      "text/plain": [
       "<Figure size 432x288 with 1 Axes>"
      ]
     },
     "metadata": {
      "needs_background": "light"
     },
     "output_type": "display_data"
    }
   ],
   "source": [
    "l = 17\n",
    "def dU_dx(U,x):\n",
    "    # here U is a vector s.t. v=U[0] and z = U[1]. Should return [v',z']\n",
    "    return [U[1], -l*(1+x**2)*U[0]]\n",
    "zx0 = [0,1]\n",
    "xs = np.linspace(0,1, 1000)\n",
    "Us = odeint(dU_dx,zx0, xs)\n",
    "\n",
    "ys = Us[:,0]\n",
    "\n",
    "\n",
    "plt.xlabel(\"x\")\n",
    "plt.ylabel(\"v(x)\")\n",
    "plt.title(\"v(x) by x\")\n",
    "plt.plot(xs, ys)"
   ]
  },
  {
   "cell_type": "markdown",
   "metadata": {},
   "source": [
    "d) Estimate $f_1 \\approx \\frac{\\sqrt{\\lambda^{(1)}_1}}{2\\pi}$"
   ]
  },
  {
   "cell_type": "code",
   "execution_count": 6,
   "metadata": {},
   "outputs": [
    {
     "data": {
      "image/png": "[encoded data removed]",
      "text/latex": [
       "$\\displaystyle 0.6562126412070524$"
      ],
      "text/plain": [
       "0.6562126412070524"
      ]
     },
     "metadata": {},
     "output_type": "display_data"
    }
   ],
   "source": [
    "f_1 = np.sqrt(l)/ (2 *np.pi)\n",
    "display(f_1)"
   ]
  },
  {
   "cell_type": "markdown",
   "metadata": {},
   "source": [
    "e) This shows that the profile shape is more biased towards to heavier end of the string"
   ]
  },
  {
   "cell_type": "code",
   "execution_count": null,
   "metadata": {},
   "outputs": [],
   "source": []
  }
 ],
 "metadata": {
  "kernelspec": {
   "display_name": "Python 3",
   "language": "python",
   "name": "python3"
  },
  "language_info": {
   "codemirror_mode": {
    "name": "ipython",
    "version": 3
   },
   "file_extension": ".py",
   "mimetype": "text/x-python",
   "name": "python",
   "nbconvert_exporter": "python",
   "pygments_lexer": "ipython3",
   "version": "3.7.6"
  }
 },
 "nbformat": 4,
 "nbformat_minor": 4
}

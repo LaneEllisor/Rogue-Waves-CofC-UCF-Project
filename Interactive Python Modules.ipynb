{
 "cells": [
  {
   "cell_type": "code",
   "execution_count": 1,
   "metadata": {},
   "outputs": [],
   "source": [
    "#Importing Modules\n",
    "%matplotlib inline\n",
    "import matplotlib.pyplot as plt\n",
    "import numpy as np\n",
    "from matplotlib.cm import get_cmap\n",
    "import scipy.integrate as integrate\n",
    "import scipy.special as special\n",
    "import sympy as sp"
   ]
  },
  {
   "cell_type": "code",
   "execution_count": 2,
   "metadata": {},
   "outputs": [
    {
     "data": {
      "text/plain": [
       "[<matplotlib.lines.Line2D at 0x7fac634098b0>]"
      ]
     },
     "execution_count": 2,
     "metadata": {},
     "output_type": "execute_result"
    },
    {
     "data": {
      "image/png": "[encoded data removed]",
      "text/plain": [
       "<Figure size 432x288 with 1 Axes>"
      ]
     },
     "metadata": {
      "needs_background": "light"
     },
     "output_type": "display_data"
    }
   ],
   "source": [
    "x = np.linspace(0,1, 100)\n",
    "y_1 = x*(1-x)\n",
    "plt.plot(x, y_1,'k-' )\n",
    "\n",
    "N = 8\n",
    "def a_n(n):\n",
    "    return (2*np.pi*n*np.sin(np.pi*n)+4*np.cos(np.pi*n)-4)/(-1*(np.pi**3)*(n**3))\n",
    "def back(x, n):\n",
    "    return np.sin(n*np.pi*x)\n",
    "def f_n(x, n):\n",
    "    return a_n(n) * back(x, n)\n",
    "\n",
    "\n",
    "def f_N(x, N):\n",
    "    f = np.zeros_like(x)\n",
    "    for i in range(1, N+1):\n",
    "        f += f_n(x, i)\n",
    "    return f\n",
    "\n",
    "plt.plot(x, f_N(x,10))"
   ]
  },
  {
   "cell_type": "code",
   "execution_count": null,
   "metadata": {},
   "outputs": [],
   "source": []
  },
  {
   "cell_type": "code",
   "execution_count": 3,
   "metadata": {},
   "outputs": [
    {
     "data": {
      "image/png": "[encoded data removed]",
      "text/plain": [
       "<Figure size 432x288 with 5 Axes>"
      ]
     },
     "metadata": {
      "needs_background": "light"
     },
     "output_type": "display_data"
    }
   ],
   "source": [
    "# sliders\n",
    "from matplotlib.widgets import Slider, Button, RadioButtons\n",
    "x = list(range(0,11))\n",
    "y = [10]*11\n",
    "fig, ax = plt.subplots()\n",
    "plt.subplots_adjust(left=0.1, bottom=0.35)\n",
    "p, = plt.plot(x,y, linewidth=2, color='b')\n",
    "\n",
    "plt.axis([0,10,0,100])\n",
    "\n",
    "axSlider1 = plt.axes([0.1, 0.2, 0.8, 0.05])\n",
    "slider1= Slider(axSlider1, 'Slider 1', valmin=0, valmax=100)\n",
    "\n",
    "axSlider2 = plt.axes([0.1, 0.1, 0.8, 0.05])\n",
    "slider2 = Slider(ax=axSlider2, label='Slider 2', valmin=0, valmax=100, valinit=30, valfmt='%1.2f', valstep=10, \n",
    "                 closedmax=False, color='g') \n",
    "\n",
    "def val_update(val):\n",
    "    yval = slider2.val\n",
    "    p.set_ydata(yval)\n",
    "    plt.draw()\n",
    "    \n",
    "cid2 = slider2.on_changed(val_update)\n",
    "# slider2.disconnect(cid2)\n",
    "\n",
    "axButton1 = plt.axes([.1, .9, .1, .1])\n",
    "btn1 = Button(axButton1, 'Reset')\n",
    "\n",
    "axButton2 = plt.axes([0.25, .9, .2, .1])\n",
    "btn2 = Button(axButton2, 'Set Value')\n",
    "\n",
    "def setVal(val):\n",
    "    slider2.set_val(50)\n",
    "    \n",
    "btn2.on_clicked(setVal)\n",
    "\n",
    "def resetSlider(event):\n",
    "    slider1.reset()\n",
    "    slider2.reset()\n",
    "btn1.on_clicked(resetSlider)\n",
    "\n",
    "plt.show()"
   ]
  },
  {
   "cell_type": "code",
   "execution_count": 4,
   "metadata": {},
   "outputs": [
    {
     "data": {
      "application/vnd.jupyter.widget-view+json": {
       "model_id": "483f158179644e91a4feb70c8b871c4f",
       "version_major": 2,
       "version_minor": 0
      },
      "text/plain": [
       "interactive(children=(IntSlider(value=5, description='C', max=10), IntSlider(value=3, description='D', max=5, …"
      ]
     },
     "metadata": {},
     "output_type": "display_data"
    }
   ],
   "source": [
    "%matplotlib inline\n",
    "\n",
    "#heat plot map interactive\n",
    "from ipywidgets import interactive, interact, fixed, interact_manual\n",
    "import seaborn as sb \n",
    "\n",
    "x = np.linspace(0,10,100)\n",
    "\n",
    "y = np.linspace(0,10,100)\n",
    "x,y = np.meshgrid(x,y)\n",
    "\n",
    "def f(A,B, C, D):\n",
    "    return D*np.sin(C*np.sqrt(A**2 + B**2))\n",
    "\n",
    "#we want to toggle C and D to sweep over\n",
    "\n",
    "# new function \n",
    "\n",
    "def plotting(C, D):\n",
    "    z = f(x,y, C, D)\n",
    "    ax = sb.heatmap(z,xticklabels= 10, yticklabels=10, vmin= -5, vmax=5, cmap='Blues_r')\n",
    "    ax.invert_yaxis()\n",
    "\n",
    "interactive_plot = interactive(plotting, C=(0,10,1), D = (1,5,1))\n",
    "interactive_plot\n",
    "\n"
   ]
  },
  {
   "cell_type": "code",
   "execution_count": 5,
   "metadata": {},
   "outputs": [
    {
     "data": {
      "application/vnd.jupyter.widget-view+json": {
       "model_id": "d221ce5188244300abe1dfe03fc9f643",
       "version_major": 2,
       "version_minor": 0
      },
      "text/plain": [
       "interactive(children=(FloatSlider(value=5.0, description='C', max=10.0), FloatSlider(value=5.0, description='t…"
      ]
     },
     "metadata": {},
     "output_type": "display_data"
    }
   ],
   "source": [
    "#heat plot map interactive\n",
    "from ipywidgets import interactive\n",
    "import seaborn as sb \n",
    "\n",
    "x = np.linspace(0,10,100)\n",
    "\n",
    "t = np.linspace(0,10,100)\n",
    "\n",
    "x,t = np.meshgrid(x,t)\n",
    "\n",
    "def f(x, t, C):\n",
    "    return C*np.exp(-(x-t)**2)\n",
    "\n",
    "#we want to toggle C and D to sweep over\n",
    "\n",
    "# new function \n",
    "def plotting(C, t):\n",
    "    z = f(x, t, C)\n",
    "    ax = sb.heatmap(z,xticklabels= 10, yticklabels=10, vmin= 0, vmax=5, cmap='Blues_r')\n",
    "    ax.invert_yaxis()\n",
    "    plt.title('u(x,t)')\n",
    "    plt.xlabel('t')\n",
    "    plt.ylabel('x position')\n",
    "\n",
    "interactive_plot = interactive(plotting, C=(0,10,.1), t = (0,10,.1))\n",
    "interactive_plot"
   ]
  },
  {
   "cell_type": "code",
   "execution_count": 6,
   "metadata": {},
   "outputs": [
    {
     "data": {
      "application/vnd.jupyter.widget-view+json": {
       "model_id": "a2721067d0974cc69e9240f550017485",
       "version_major": 2,
       "version_minor": 0
      },
      "text/plain": [
       "interactive(children=(IntSlider(value=1, description='x', max=3, min=-1), Output()), _dom_classes=('widget-int…"
      ]
     },
     "metadata": {},
     "output_type": "display_data"
    },
    {
     "data": {
      "text/plain": [
       "<function __main__.f(x)>"
      ]
     },
     "execution_count": 6,
     "metadata": {},
     "output_type": "execute_result"
    }
   ],
   "source": [
    "from scipy.interpolate import UnivariateSpline\n",
    "import ipywidgets as widgets\n",
    "\n",
    "\n",
    "def f(x):\n",
    "    plt.plot(np.arange(0,10), x*np.arange(0,10))\n",
    "    plt.ylim(-38,30)\n",
    "    \n",
    "interact(f, x=1) # x will change the slope"
   ]
  },
  {
   "cell_type": "code",
   "execution_count": 7,
   "metadata": {},
   "outputs": [
    {
     "data": {
      "application/vnd.jupyter.widget-view+json": {
       "model_id": "bf618ca43c1849708f523fbdb5af5b4d",
       "version_major": 2,
       "version_minor": 0
      },
      "text/plain": [
       "interactive(children=(FloatSlider(value=5.0, description='x', max=10.0, step=0.5), Output()), _dom_classes=('w…"
      ]
     },
     "metadata": {},
     "output_type": "display_data"
    },
    {
     "data": {
      "text/plain": [
       "<function __main__.f(x)>"
      ]
     },
     "execution_count": 7,
     "metadata": {},
     "output_type": "execute_result"
    }
   ],
   "source": [
    "def f(x):\n",
    "    plt.plot(np.arange(0,10), x*np.arange(0,10))\n",
    "    plt.ylim(-30,30)\n",
    "    \n",
    "interact(f, x=(0,10, .5)) # x will change the slope on an interval of maxes and mins"
   ]
  },
  {
   "cell_type": "code",
   "execution_count": 8,
   "metadata": {},
   "outputs": [
    {
     "data": {
      "application/vnd.jupyter.widget-view+json": {
       "model_id": "f9dd91c6b5a14f41b17fc1a2bc353079",
       "version_major": 2,
       "version_minor": 0
      },
      "text/plain": [
       "interactive(children=(Checkbox(value=True, description='x'), Output()), _dom_classes=('widget-interact',))"
      ]
     },
     "metadata": {},
     "output_type": "display_data"
    },
    {
     "data": {
      "text/plain": [
       "<function __main__.g(x)>"
      ]
     },
     "execution_count": 8,
     "metadata": {},
     "output_type": "execute_result"
    }
   ],
   "source": [
    "#automatically choose approriate widget\n",
    "rands = np.random.rand(100)\n",
    "\n",
    "def g(x):\n",
    "    if x:\n",
    "        plt.plot(rands, 'b')\n",
    "        \n",
    "    else:\n",
    "        plt.plot(rands, 'r')\n",
    "        \n",
    "interact(g, x=True)"
   ]
  },
  {
   "cell_type": "code",
   "execution_count": 9,
   "metadata": {},
   "outputs": [
    {
     "data": {
      "application/vnd.jupyter.widget-view+json": {
       "model_id": "36515681d3b74fe9b86c6cf99efff0eb",
       "version_major": 2,
       "version_minor": 0
      },
      "text/plain": [
       "interactive(children=(Text(value='Title', description='title'), Output()), _dom_classes=('widget-interact',))"
      ]
     },
     "metadata": {},
     "output_type": "display_data"
    }
   ],
   "source": [
    "# interact as decorator \n",
    "\n",
    "@interact(title='Title')\n",
    "def f(title):\n",
    "    plt.title(title)"
   ]
  },
  {
   "cell_type": "code",
   "execution_count": 10,
   "metadata": {},
   "outputs": [
    {
     "data": {
      "application/vnd.jupyter.widget-view+json": {
       "model_id": "cf8c4058284848c7a4deba3edaa2bfe3",
       "version_major": 2,
       "version_minor": 0
      },
      "text/plain": [
       "interactive(children=(IntSlider(value=1, description='a', max=3, min=-1), IntSlider(value=3, description='b', …"
      ]
     },
     "metadata": {},
     "output_type": "display_data"
    },
    {
     "data": {
      "text/plain": [
       "<function __main__.f(a, b)>"
      ]
     },
     "execution_count": 10,
     "metadata": {},
     "output_type": "execute_result"
    }
   ],
   "source": [
    "# multiple Widgets\n",
    "\n",
    "def f(a,b):\n",
    "    plt.plot(np.arange(0,10), a*np.power(np.arange(0,10), b ))\n",
    "    plt.title('Power Law: $x = ay^b$')\n",
    "interact(f, a=1, b=3)"
   ]
  },
  {
   "cell_type": "code",
   "execution_count": 11,
   "metadata": {},
   "outputs": [
    {
     "data": {
      "application/vnd.jupyter.widget-view+json": {
       "model_id": "a4fdb9c8aca1401fb11ffdef7e614476",
       "version_major": 2,
       "version_minor": 0
      },
      "text/plain": [
       "interactive(children=(IntSlider(value=5, description='b', max=10), Output()), _dom_classes=('widget-interact',…"
      ]
     },
     "metadata": {},
     "output_type": "display_data"
    },
    {
     "data": {
      "text/plain": [
       "<function __main__.f(a, b)>"
      ]
     },
     "execution_count": 11,
     "metadata": {},
     "output_type": "execute_result"
    }
   ],
   "source": [
    "# fixed value \n",
    "\n",
    "def f(a,b):\n",
    "    plt.plot(np.arange(0,10), a*np.power(np.arange(0,10), b ))\n",
    "    plt.title('Power Law: $x = ay^b$')\n",
    "    \n",
    "interact(f,a=fixed(2), b=(0,10))"
   ]
  },
  {
   "cell_type": "code",
   "execution_count": 12,
   "metadata": {},
   "outputs": [
    {
     "data": {
      "application/vnd.jupyter.widget-view+json": {
       "model_id": "c3732f351f9e432f8260dbdd90c2ddb2",
       "version_major": 2,
       "version_minor": 0
      },
      "text/plain": [
       "interactive(children=(Dropdown(description='color', options=('red', 'green', 'blue', 'pink'), value='red'), Ou…"
      ]
     },
     "metadata": {},
     "output_type": "display_data"
    },
    {
     "data": {
      "text/plain": [
       "<function __main__.f(color)>"
      ]
     },
     "execution_count": 12,
     "metadata": {},
     "output_type": "execute_result"
    }
   ],
   "source": [
    "# Dropdowns \n",
    "\n",
    "def f(color):\n",
    "    plt.plot(np.arange(0,10), np.power(np.arange(0,10),5), c=color)\n",
    "    plt.title(\"Power Law $y=ax^b$\")\n",
    "colors = [\"red\", 'green', 'blue', 'pink']\n",
    "\n",
    "interact(f, color=colors)"
   ]
  },
  {
   "cell_type": "code",
   "execution_count": 13,
   "metadata": {},
   "outputs": [
    {
     "data": {
      "application/vnd.jupyter.widget-view+json": {
       "model_id": "c738532bf3034c32b194e2d1df2f6f0b",
       "version_major": 2,
       "version_minor": 0
      },
      "text/plain": [
       "interactive(children=(Dropdown(description='b', options={'one': 1, 'two': 2, 'three': 3}, value=1), Output()),…"
      ]
     },
     "metadata": {},
     "output_type": "display_data"
    },
    {
     "data": {
      "text/plain": [
       "<function __main__.f(b)>"
      ]
     },
     "execution_count": 13,
     "metadata": {},
     "output_type": "execute_result"
    }
   ],
   "source": [
    "# dropdowns with dictionaries \n",
    "\n",
    "def f(b):\n",
    "    plt.plot(np.arange(0,10), np.power(np.arange(0,10), b))\n",
    "    plt.title(\"Power Law $y=ax^b$\")\n",
    "\n",
    "powers = {'one':1, 'two':2, 'three':3}\n",
    "\n",
    "interact(f, b=powers)"
   ]
  },
  {
   "cell_type": "code",
   "execution_count": null,
   "metadata": {},
   "outputs": [],
   "source": []
  }
 ],
 "metadata": {
  "kernelspec": {
   "display_name": "Python 3",
   "language": "python",
   "name": "python3"
  },
  "language_info": {
   "codemirror_mode": {
    "name": "ipython",
    "version": 3
   },
   "file_extension": ".py",
   "mimetype": "text/x-python",
   "name": "python",
   "nbconvert_exporter": "python",
   "pygments_lexer": "ipython3",
   "version": "3.8.8"
  }
 },
 "nbformat": 4,
 "nbformat_minor": 4
}

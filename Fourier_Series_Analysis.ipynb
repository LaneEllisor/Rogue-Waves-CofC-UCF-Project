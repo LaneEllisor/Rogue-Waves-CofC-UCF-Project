{
 "cells": [
  {
   "cell_type": "markdown",
   "metadata": {},
   "source": [
    "### Fourier Series Analysis\n",
    "\n",
    "*Lane Ellisor* \n",
    "\n",
    "*Last Edit: 18 March 2021* \n",
    "\n",
    "This notebook will seek to do 3 Main things \n",
    "\n",
    "- Analyse how an infinite series converges \n",
    "- Analyse the rates of convergence of certain series \n",
    "- Create an interactive interface for partial sums\n",
    "\n",
    "These exercises come from R. Knobel's *Introduction to the Mathematical Theory of Waves*."
   ]
  },
  {
   "cell_type": "code",
   "execution_count": 1,
   "metadata": {},
   "outputs": [],
   "source": [
    "#Importing Modules\n",
    "import matplotlib.pyplot as plt\n",
    "import numpy as np\n",
    "from matplotlib.cm import get_cmap\n",
    "import scipy.integrate as integrate\n",
    "import scipy.special as special\n",
    "import sympy as sp\n",
    "from matplotlib.widgets import Slider, Button, RadioButtons\n",
    "from scipy.interpolate import UnivariateSpline\n",
    "from ipywidgets import interactive, interact, fixed, interact_manual\n",
    "%matplotlib inline"
   ]
  },
  {
   "cell_type": "markdown",
   "metadata": {},
   "source": [
    "**Exercise 14.2**\n",
    "\n",
    "Find the Fourier sine series expansion on the interval $[0,1]$ for the functions a)$f(x) = x(1-x)$, b) $f(x) = 1 - cos(2\\pi x)$. Compare the graphs of $f(x)$ and $f_3(x)$. "
   ]
  },
  {
   "cell_type": "markdown",
   "metadata": {},
   "source": [
    "a) The sine series approximation has been found to be $f(x) = \\sum\\limits_{n=1}^{\\infty} \\frac{sin(\\pi n) - \\pi n cos(\\pi n)}{\\pi^2 n^2} \\cdot sin(n\\pi x)$. Comparing the graphs of $f(x)$ and $f_3(x)$. "
   ]
  },
  {
   "cell_type": "code",
   "execution_count": 2,
   "metadata": {},
   "outputs": [
    {
     "data": {
      "image/png": "[encoded data removed]",
      "text/plain": [
       "<Figure size 432x288 with 1 Axes>"
      ]
     },
     "metadata": {
      "needs_background": "light"
     },
     "output_type": "display_data"
    }
   ],
   "source": [
    "x = np.linspace(0,1, 100)\n",
    "y_1 = x*(1-x)\n",
    "\n",
    "\n",
    "\n",
    "N = 8\n",
    "def a_n(n):\n",
    "    return (2*np.pi*n*np.sin(np.pi*n)+4*np.cos(np.pi*n)-4)/(-1*(np.pi**3)*(n**3))\n",
    "def back(x, n):\n",
    "    return np.sin(n*np.pi*x)\n",
    "def f_n(x, n):\n",
    "    return a_n(n) * back(x, n)\n",
    "\n",
    "\n",
    "def f_N(x, N):\n",
    "    f = np.zeros_like(x)\n",
    "    for i in range(1, N+1):\n",
    "        f += f_n(x, i)\n",
    "    return f\n",
    "plt.plot(x, y_1,'k-' )\n",
    "plt.plot(x, f_N(x,3))\n",
    "plt.xlabel('x')\n",
    "plt.ylabel('f(x)')\n",
    "plt.title('$f(x)=x(1-x)$ vs. partial sum $f_3(x)$')\n",
    "plt.show()"
   ]
  },
  {
   "cell_type": "markdown",
   "metadata": {},
   "source": [
    "It is clear that the series converges rather rapidly and is a good approximation."
   ]
  },
  {
   "cell_type": "markdown",
   "metadata": {},
   "source": [
    "b) We have found the function can be approximated as $f(x) = \\frac{ncos(\\pi n) +\\pi n^2 - n -4\\pi}{\\pi(n^2-4)} \\cdot sin(n\\pi x)$."
   ]
  },
  {
   "cell_type": "code",
   "execution_count": 3,
   "metadata": {},
   "outputs": [
    {
     "data": {
      "application/vnd.jupyter.widget-view+json": {
       "model_id": "337d37dd36a1452891b0bf87332002f9",
       "version_major": 2,
       "version_minor": 0
      },
      "text/plain": [
       "interactive(children=(IntSlider(value=12, description='N', max=25), Output()), _dom_classes=('widget-interact'…"
      ]
     },
     "metadata": {},
     "output_type": "display_data"
    },
    {
     "data": {
      "text/plain": [
       "<function __main__.plotting(N)>"
      ]
     },
     "execution_count": 3,
     "metadata": {},
     "output_type": "execute_result"
    }
   ],
   "source": [
    "def plotting(N):\n",
    "    x = np.linspace(0,2, 2000)\n",
    "    def a_n(n):\n",
    "        return 1\n",
    "\n",
    "    def back(x, n):\n",
    "        return np.sin(n*np.pi*x)\n",
    "             \n",
    "    def f_n(x, n):\n",
    "        return a_n(n) * back(x, n)\n",
    "\n",
    "\n",
    "    def f_N(x, N):\n",
    "        f = np.zeros_like(x)\n",
    "        for i in range(1, N+1):\n",
    "            f += f_n(x, i)\n",
    "        return f\n",
    "    \n",
    "    plt.plot(x, f_N(x,N), N )\n",
    "    plt.xlim(0,1.1)\n",
    "    plt.ylim(0,3)\n",
    "    plt.plot(x, 1-np.cos(2*np.pi*x), 'k')\n",
    "    plt.xlabel('x')\n",
    "    plt.ylabel('f(x)')\n",
    "    plt.title('$f(x) = 1-cos(2\\pi x)$ vs. $f_N(x)$')\n",
    "interact(plotting, N=(0,25))"
   ]
  },
  {
   "cell_type": "markdown",
   "metadata": {},
   "source": [
    "It is seen that the series only has a coefficient $a_2 = 1$. "
   ]
  },
  {
   "cell_type": "markdown",
   "metadata": {},
   "source": [
    "**Exercise 14.3**\n",
    "\n",
    "Find fourier expansion of $f(x)=x$ and graph the partial sums. At what values of $x$ does the series not converge?"
   ]
  },
  {
   "cell_type": "code",
   "execution_count": 4,
   "metadata": {},
   "outputs": [
    {
     "data": {
      "application/vnd.jupyter.widget-view+json": {
       "model_id": "7973d6b1ab4b42b58077be682b44490e",
       "version_major": 2,
       "version_minor": 0
      },
      "text/plain": [
       "interactive(children=(IntSlider(value=12, description='N', max=25), Output()), _dom_classes=('widget-interact'…"
      ]
     },
     "metadata": {},
     "output_type": "display_data"
    },
    {
     "data": {
      "text/plain": [
       "<function __main__.plotting(N)>"
      ]
     },
     "execution_count": 4,
     "metadata": {},
     "output_type": "execute_result"
    }
   ],
   "source": [
    "def plotting(N):\n",
    "    x = np.linspace(0,2, 2000)\n",
    "    def a_n(n):\n",
    "        return 2*(np.sin(np.pi*n)-np.pi*n*np.cos(np.pi*n)/(np.pi**2 * n**2))\n",
    "\n",
    "    def back(x, n):\n",
    "        return np.sin(n*np.pi*x)\n",
    "             \n",
    "    def f_n(x, n):\n",
    "        return a_n(n) * back(x, n)\n",
    "\n",
    "\n",
    "    def f_N(x, N):\n",
    "        f = np.zeros_like(x)\n",
    "        for i in range(1, N+1):\n",
    "            f += f_n(x, i)\n",
    "        return f\n",
    "    \n",
    "    plt.plot(x, f_N(x,N), N )\n",
    "    plt.xlim(0,1.1)\n",
    "    plt.ylim(0,1.5)\n",
    "    plt.plot(x, x, 'k')\n",
    "    plt.xlabel('x')\n",
    "    plt.ylabel('f(x)')\n",
    "    plt.title('$f(x) = x$ vs. $f_N(x)$')\n",
    "interact(plotting, N=(0,25))"
   ]
  },
  {
   "cell_type": "markdown",
   "metadata": {},
   "source": [
    "**Exercise 14.4**\n",
    "\n",
    "Write a Fourier Sine Series Expansion of \n",
    "\n",
    "a) $f(x) = sin(2 \\pi x)$\n",
    "\n",
    "b) $f(x) = x(1-x)$\n",
    "\n",
    "c) $f(x) = x$"
   ]
  },
  {
   "cell_type": "markdown",
   "metadata": {},
   "source": [
    "The coeficient $a_m$ is defined as\n",
    "\n",
    "$ a_m = \\frac{2}{L} \\int_{0}^{L} f(s) \\cdot sin(m\\pi s / L) ds$\n",
    "\n",
    "The fourier expansion is denoted\n",
    "\n",
    "$f_N(x) = \\sum\\limits_{n=1}^{N} a_m sin(n\\pi x/L)$"
   ]
  },
  {
   "cell_type": "markdown",
   "metadata": {},
   "source": [
    "a) Expansion of $f(x)=sin(2\\pi x)$ can be found to be $f(x) = \\sum\\limits_{n=1}^{\\infty} \\frac{4 sin(\\pi n)}{\\pi n^2 - 4\\pi} sin(n\\pi x) $"
   ]
  },
  {
   "cell_type": "code",
   "execution_count": 5,
   "metadata": {
    "scrolled": true
   },
   "outputs": [
    {
     "data": {
      "image/png": "[encoded data removed]",
      "text/plain": [
       "<Figure size 432x288 with 1 Axes>"
      ]
     },
     "metadata": {
      "needs_background": "light"
     },
     "output_type": "display_data"
    }
   ],
   "source": [
    "def plotting(N):\n",
    "    x = np.linspace(0,1, 2000)\n",
    "    def a_n(n):\n",
    "        return 1\n",
    "\n",
    "    def back(x, n):\n",
    "        return np.sin(n*np.pi*x)\n",
    "             \n",
    "    def f_n(x, n):\n",
    "        return a_n(n) * back(x, n)\n",
    "\n",
    "\n",
    "    def f_N(x, N):\n",
    "        f = np.zeros_like(x)\n",
    "        for i in range(1, N+1):\n",
    "            f += f_n(x, i)\n",
    "        return f\n",
    "    \n",
    "    plt.plot(x, f_N(x,2), N )\n",
    "    plt.xlim(0,.5)\n",
    "    plt.ylim(0,3)\n",
    "    plt.plot(x, np.sin(2*np.pi*x), 'k')\n",
    "plotting(2)                     "
   ]
  },
  {
   "cell_type": "markdown",
   "metadata": {},
   "source": [
    "Because of the orthogonality all coefficients will be 0 expect $a_2 = 1$."
   ]
  },
  {
   "cell_type": "markdown",
   "metadata": {},
   "source": [
    "The expansion of $f(x) = x(1-x)$ has already been analyzed."
   ]
  },
  {
   "cell_type": "code",
   "execution_count": 6,
   "metadata": {
    "scrolled": false
   },
   "outputs": [
    {
     "data": {
      "application/vnd.jupyter.widget-view+json": {
       "model_id": "7c49750aaf24447a85efacf512e0ca5b",
       "version_major": 2,
       "version_minor": 0
      },
      "text/plain": [
       "interactive(children=(IntSlider(value=2, description='N', max=5), Output()), _dom_classes=('widget-interact',)…"
      ]
     },
     "metadata": {},
     "output_type": "display_data"
    },
    {
     "data": {
      "text/plain": [
       "<function __main__.plotting(N)>"
      ]
     },
     "execution_count": 6,
     "metadata": {},
     "output_type": "execute_result"
    }
   ],
   "source": [
    "def plotting(N):\n",
    "    x = np.linspace(0,1, 2000)\n",
    "    def a_n(n):\n",
    "        return (2*np.pi*n*np.sin(np.pi*n)+4*np.cos(np.pi*n)-4)/(-1*(np.pi**3)*(n**3))\n",
    "\n",
    "    def back(x, n):\n",
    "        return np.sin(n*np.pi*x)\n",
    "             \n",
    "    def f_n(x, n):\n",
    "        return a_n(n) * back(x, n)\n",
    "\n",
    "\n",
    "    def f_N(x, N):\n",
    "        f = np.zeros_like(x)\n",
    "        for i in range(1, N+1):\n",
    "            f += f_n(x, i)\n",
    "        return f\n",
    "    \n",
    "    plt.plot(x, f_N(x,N), N)\n",
    "    plt.xlim(0,1)\n",
    "    plt.ylim(0,.3)\n",
    "    plt.plot(x, x*(1-x), 'k')\n",
    "    \n",
    "interact(plotting, N=(0,5))"
   ]
  },
  {
   "cell_type": "markdown",
   "metadata": {},
   "source": [
    "c) the function $f(x) = x$ has already been analysed. "
   ]
  },
  {
   "cell_type": "code",
   "execution_count": 7,
   "metadata": {},
   "outputs": [
    {
     "data": {
      "application/vnd.jupyter.widget-view+json": {
       "model_id": "6c5bdefc63604c9ba3812a94994d6d72",
       "version_major": 2,
       "version_minor": 0
      },
      "text/plain": [
       "interactive(children=(IntSlider(value=7, description='N', max=15), Output()), _dom_classes=('widget-interact',…"
      ]
     },
     "metadata": {},
     "output_type": "display_data"
    },
    {
     "data": {
      "text/plain": [
       "<function __main__.plotting(N)>"
      ]
     },
     "execution_count": 7,
     "metadata": {},
     "output_type": "execute_result"
    }
   ],
   "source": [
    "def plotting(N):\n",
    "    x = np.linspace(0,2, 2000)\n",
    "    def a_n(n):\n",
    "        return 2*(np.sin(np.pi*n)-np.pi*n*np.cos(np.pi*n)/(np.pi**2 * n**2))\n",
    "\n",
    "    def back(x, n):\n",
    "        return np.sin(n*np.pi*x)\n",
    "             \n",
    "    def f_n(x, n):\n",
    "        return a_n(n) * back(x, n)\n",
    "\n",
    "\n",
    "    def f_N(x, N):\n",
    "        f = np.zeros_like(x)\n",
    "        for i in range(1, N+1):\n",
    "            f += f_n(x, i)\n",
    "        return f\n",
    "    \n",
    "    plt.plot(x, f_N(x,N), N )\n",
    "    plt.xlim(0,1.1)\n",
    "    plt.ylim(0,1.5)\n",
    "    plt.plot(x, x, 'k')\n",
    "interact(plotting, N=(0,15))"
   ]
  },
  {
   "cell_type": "markdown",
   "metadata": {},
   "source": [
    "**Exercise 14.6**\n",
    "\n",
    "Using the BVP on pg. 109 construct and animate the solutions of $u(x,t)$ with partial sums for the following initial conditions \n",
    "\n",
    "a) $u(x,0) = x(1-x)$ and $u_t(x,0)=0$. \n",
    "\n",
    "b) $u(x,0) = 0$ and $u_t(x,0)=x(1-x)$. "
   ]
  },
  {
   "cell_type": "code",
   "execution_count": null,
   "metadata": {},
   "outputs": [],
   "source": []
  },
  {
   "cell_type": "code",
   "execution_count": null,
   "metadata": {},
   "outputs": [],
   "source": []
  },
  {
   "cell_type": "code",
   "execution_count": null,
   "metadata": {},
   "outputs": [],
   "source": []
  },
  {
   "cell_type": "code",
   "execution_count": null,
   "metadata": {},
   "outputs": [],
   "source": []
  }
 ],
 "metadata": {
  "kernelspec": {
   "display_name": "Python 3",
   "language": "python",
   "name": "python3"
  },
  "language_info": {
   "codemirror_mode": {
    "name": "ipython",
    "version": 3
   },
   "file_extension": ".py",
   "mimetype": "text/x-python",
   "name": "python",
   "nbconvert_exporter": "python",
   "pygments_lexer": "ipython3",
   "version": "3.8.8"
  }
 },
 "nbformat": 4,
 "nbformat_minor": 4
}
